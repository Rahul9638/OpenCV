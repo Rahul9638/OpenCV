{
 "cells": [
  {
   "cell_type": "code",
   "execution_count": 1,
   "metadata": {},
   "outputs": [],
   "source": [
    "import numpy\n",
    "import cv2"
   ]
  },
  {
   "cell_type": "code",
   "execution_count": 2,
   "metadata": {},
   "outputs": [],
   "source": [
    "# Assinging haar_cascade to the function\n",
    "face_classifier = cv2.CascadeClassifier('haarcascade_frontalface_default.xml')"
   ]
  },
  {
   "cell_type": "code",
   "execution_count": 3,
   "metadata": {},
   "outputs": [],
   "source": [
    "# Loading our image\n",
    "img = cv2.imread('IMG_3127.JPG')"
   ]
  },
  {
   "cell_type": "code",
   "execution_count": 7,
   "metadata": {},
   "outputs": [],
   "source": [
    "gray = cv2.cvtColor(img,cv2.COLOR_BGR2GRAY)"
   ]
  },
  {
   "cell_type": "code",
   "execution_count": 8,
   "metadata": {},
   "outputs": [],
   "source": [
    "cv2.imshow('image',gray)\n",
    "cv2.waitKey()\n",
    "cv2.destroyAllWindows()"
   ]
  },
  {
   "cell_type": "code",
   "execution_count": 9,
   "metadata": {},
   "outputs": [],
   "source": [
    "# Now detecting the faces of the classifier\n",
    "# It indicates the location of (in the top most left corner,and bottom right corner) the rectangle formed o\n",
    "faces = face_classifier.detectMultiScale(gray,1.3,5)"
   ]
  },
  {
   "cell_type": "code",
   "execution_count": 16,
   "metadata": {},
   "outputs": [],
   "source": [
    "# When classifier doesn't found any image it returns nothing\n",
    "if faces is ():\n",
    "    print('NO Face found') \n",
    "\n",
    "# Now we iterate through each faces and draw a rectangle \n",
    "# Over each face in faces\n",
    "\n",
    "for (x,y,w,h) in faces: # Here (x,y:- x and y co-ordinate),(w,h:- width and the height of the image)\n",
    "    cv2.rectangle(img,(x,y),(x+w,y+h),(138,0,255),2) # Here the (138,0,255) detect the color values in terms RGB\n",
    "    cv2.imshow('face_detection',img)\n",
    "    cv2.waitKey()\n",
    "cv2.destroyAllWindows()"
   ]
  },
  {
   "cell_type": "markdown",
   "metadata": {},
   "source": [
    " Now detecting the faces and eyes\n"
   ]
  },
  {
   "cell_type": "code",
   "execution_count": 17,
   "metadata": {},
   "outputs": [],
   "source": [
    "import cv2\n",
    "import numpy"
   ]
  },
  {
   "cell_type": "code",
   "execution_count": 19,
   "metadata": {},
   "outputs": [],
   "source": [
    "face_classifier = cv2.CascadeClassifier('haarcascade_frontalface_default.xml')\n",
    "eye_classifier = cv2.CascadeClassifier('haarcascade_eye.xml')"
   ]
  },
  {
   "cell_type": "code",
   "execution_count": 29,
   "metadata": {},
   "outputs": [],
   "source": [
    "# Loading image and converting to the gray scale\n",
    "img1 = cv2.imread('IMG_3127.JPG')\n",
    "gray = cv2.cvtColor(img,cv2.COLOR_BGR2GRAY)\n",
    "\n",
    "# Now, Detecting the faces and images \n",
    "faces = face_classifier.detectMultiScale(img1,1.3,5)\n",
    "\n",
    "# If no faces are detected\n",
    "if faces is ():\n",
    "    print('No faces detected')\n",
    "\n",
    "    \n",
    "for (x,y,w,h) in faces:\n",
    "    cv2.rectangle(img1,(x,y),(x+w,y+h),(39,0,255),2)\n",
    "    cv2.imshow('img',img1)\n",
    "    cv2.waitKey(0)\n",
    "    roi_gray = gray[y:y+h,x:x+w] # Cropping the gray image for passing to eyes classifier for detection\n",
    "    roi_color = img1[y:y+h,x:x+w] # cropping the color image for creating rectangle\n",
    "    eyes = eye_classifier.detectMultiScale(roi_gray)\n",
    "    for (ex,ey,ew,eh) in eyes:\n",
    "        cv2.rectangle(roi_color,(ex,ey),(ex+ew,ey+eh),(182,0,232),2)\n",
    "        cv2.imshow('img',img1)\n",
    "        cv2.waitKey()\n",
    "cv2.destroyAllWindows()"
   ]
  },
  {
   "cell_type": "code",
   "execution_count": null,
   "metadata": {},
   "outputs": [],
   "source": []
  }
 ],
 "metadata": {
  "kernelspec": {
   "display_name": "Python 3",
   "language": "python",
   "name": "python3"
  },
  "language_info": {
   "codemirror_mode": {
    "name": "ipython",
    "version": 3
   },
   "file_extension": ".py",
   "mimetype": "text/x-python",
   "name": "python",
   "nbconvert_exporter": "python",
   "pygments_lexer": "ipython3",
   "version": "3.7.6"
  }
 },
 "nbformat": 4,
 "nbformat_minor": 4
}
